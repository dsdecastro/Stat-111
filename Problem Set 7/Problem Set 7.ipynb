{
 "cells": [
  {
   "cell_type": "code",
   "execution_count": 230,
   "id": "b296e1d5",
   "metadata": {},
   "outputs": [],
   "source": [
    "import numpy as np\n",
    "import pandas as pd\n",
    "import scipy.stats as stats\n",
    "import matplotlib.pyplot as plt\n",
    "import statsmodels.api as sm\n",
    "import statsmodels.distributions.mixture_rvs as mixture_rvs"
   ]
  },
  {
   "cell_type": "markdown",
   "id": "92dca715",
   "metadata": {},
   "source": [
    "## Problem 1"
   ]
  },
  {
   "cell_type": "code",
   "execution_count": 241,
   "id": "7cc63a04",
   "metadata": {},
   "outputs": [
    {
     "data": {
      "text/html": [
       "<div>\n",
       "<style scoped>\n",
       "    .dataframe tbody tr th:only-of-type {\n",
       "        vertical-align: middle;\n",
       "    }\n",
       "\n",
       "    .dataframe tbody tr th {\n",
       "        vertical-align: top;\n",
       "    }\n",
       "\n",
       "    .dataframe thead th {\n",
       "        text-align: right;\n",
       "    }\n",
       "</style>\n",
       "<table border=\"1\" class=\"dataframe\">\n",
       "  <thead>\n",
       "    <tr style=\"text-align: right;\">\n",
       "      <th></th>\n",
       "      <th>X</th>\n",
       "      <th>Y</th>\n",
       "    </tr>\n",
       "  </thead>\n",
       "  <tbody>\n",
       "    <tr>\n",
       "      <th>0</th>\n",
       "      <td>1</td>\n",
       "      <td>125.375606</td>\n",
       "    </tr>\n",
       "    <tr>\n",
       "      <th>1</th>\n",
       "      <td>2</td>\n",
       "      <td>123.703602</td>\n",
       "    </tr>\n",
       "    <tr>\n",
       "      <th>2</th>\n",
       "      <td>3</td>\n",
       "      <td>123.751999</td>\n",
       "    </tr>\n",
       "    <tr>\n",
       "      <th>3</th>\n",
       "      <td>4</td>\n",
       "      <td>120.630515</td>\n",
       "    </tr>\n",
       "    <tr>\n",
       "      <th>4</th>\n",
       "      <td>5</td>\n",
       "      <td>124.123887</td>\n",
       "    </tr>\n",
       "  </tbody>\n",
       "</table>\n",
       "</div>"
      ],
      "text/plain": [
       "   X           Y\n",
       "0  1  125.375606\n",
       "1  2  123.703602\n",
       "2  3  123.751999\n",
       "3  4  120.630515\n",
       "4  5  124.123887"
      ]
     },
     "execution_count": 241,
     "metadata": {},
     "output_type": "execute_result"
    }
   ],
   "source": [
    "jill = pd.read_csv(\"jill.csv\")\n",
    "jill.head()"
   ]
  },
  {
   "cell_type": "code",
   "execution_count": 242,
   "id": "11d68530",
   "metadata": {},
   "outputs": [],
   "source": [
    "mu_hat = np.median(jill.Y)"
   ]
  },
  {
   "cell_type": "code",
   "execution_count": 243,
   "id": "cde516aa",
   "metadata": {},
   "outputs": [],
   "source": [
    "n = len(jill.Y)"
   ]
  },
  {
   "cell_type": "code",
   "execution_count": 248,
   "id": "ed5efbb1",
   "metadata": {},
   "outputs": [
    {
     "data": {
      "text/plain": [
       "array([0.14420893])"
      ]
     },
     "execution_count": 248,
     "metadata": {},
     "output_type": "execute_result"
    }
   ],
   "source": [
    "f = sm.nonparametric.KDEUnivariate(jill.Y)\n",
    "f.fit()\n",
    "f.evaluate(mu_hat)"
   ]
  },
  {
   "cell_type": "code",
   "execution_count": 251,
   "id": "4c1b49f6",
   "metadata": {},
   "outputs": [
    {
     "data": {
      "text/plain": [
       "(123.58102644523855, 125.07287549024745)"
      ]
     },
     "execution_count": 251,
     "metadata": {},
     "output_type": "execute_result"
    }
   ],
   "source": [
    "(mu_hat - 1.96 * 0.5 / (np.sqrt(83) * f.evaluate(mu_hat)[0]), mu_hat + 1.96 * 0.5 / (np.sqrt(83) * f.evaluate(mu_hat)[0]))"
   ]
  },
  {
   "cell_type": "code",
   "execution_count": 16,
   "id": "49e916cb",
   "metadata": {},
   "outputs": [
    {
     "data": {
      "text/plain": [
       "(123.58136288231937, 125.07253905316664)"
      ]
     },
     "execution_count": 16,
     "metadata": {},
     "output_type": "execute_result"
    }
   ],
   "source": [
    "(mu_hat - 0.98 / (np.sqrt(83) * f(mu_hat)[0]), mu_hat + 0.98 / (np.sqrt(83) * f(mu_hat)[0]))"
   ]
  },
  {
   "cell_type": "markdown",
   "id": "364a43e8",
   "metadata": {},
   "source": [
    "### (e)"
   ]
  },
  {
   "cell_type": "code",
   "execution_count": 227,
   "id": "a418da2d",
   "metadata": {},
   "outputs": [
    {
     "data": {
      "text/plain": [
       "83"
      ]
     },
     "execution_count": 227,
     "metadata": {},
     "output_type": "execute_result"
    }
   ],
   "source": [
    "n = len(jill.Y)\n",
    "delta = 0.025\n",
    "mu = np.arange(124,127 + delta, delta)\n",
    "mu_0 = 126\n",
    "n"
   ]
  },
  {
   "cell_type": "code",
   "execution_count": 224,
   "id": "da39fdbb",
   "metadata": {},
   "outputs": [],
   "source": [
    "def generate_Y(mu, U):\n",
    "    return mu * (1 + np.exp(-4 + 0.5 * U)) / (1 + np.exp(-4))"
   ]
  },
  {
   "cell_type": "code",
   "execution_count": 257,
   "id": "ffd8e2e1",
   "metadata": {
    "scrolled": false
   },
   "outputs": [],
   "source": [
    "power = np.zeros(int(3/delta) + 2)\n",
    "for m in range(len(mu)):\n",
    "    arr = np.zeros(500)\n",
    "    for i in range(500):\n",
    "        Y = [generate_Y(mu[m], U) for U in stats.norm.rvs(size=n)]\n",
    "        mu_hat = np.median(Y)\n",
    "        kde = sm.nonparametric.KDEUnivariate(Y)\n",
    "        kde.fit()\n",
    "        AsyVar = 1 / (4 * n * kde.evaluate(mu[m])[0] ** 2)\n",
    "        arr[i] = (mu_0 > mu_hat + 1.96 * np.sqrt(AsyVar)) or (mu_0 < mu_hat - 1.96 * np.sqrt(AsyVar))\n",
    "    power[m] = np.mean(arr)"
   ]
  },
  {
   "cell_type": "code",
   "execution_count": 258,
   "id": "5dd290a2",
   "metadata": {},
   "outputs": [
    {
     "data": {
      "image/png": "[encoded data removed]",
      "text/plain": [
       "<Figure size 720x504 with 1 Axes>"
      ]
     },
     "metadata": {
      "needs_background": "light"
     },
     "output_type": "display_data"
    }
   ],
   "source": [
    "plt.figure(figsize=[10,7]) \n",
    "plt.plot(mu, power, 'o')\n",
    "plt.plot(mu, len(mu) * [0.5], linestyle=\"dotted\", label=\"power = 0.5\", color=u'#d62728')\n",
    "plt.xlabel(\"mu\")\n",
    "plt.ylabel(\"power\")\n",
    "plt.legend()\n",
    "plt.savefig(\"1e.png\")\n",
    "plt.show()"
   ]
  },
  {
   "cell_type": "code",
   "execution_count": 259,
   "id": "5efe3962",
   "metadata": {},
   "outputs": [
    {
     "name": "stdout",
     "output_type": "stream",
     "text": [
      "125.70000000000039 0.448 68\n",
      "125.67500000000038 0.502 67\n"
     ]
    }
   ],
   "source": [
    "for m in range(len(mu)):\n",
    "    if power[m] < 0.5:\n",
    "        print(mu[m], power[m], m)\n",
    "        break\n",
    "\n",
    "print(mu[m-1], power[m-1], m-1)"
   ]
  },
  {
   "cell_type": "code",
   "execution_count": 260,
   "id": "f5a1e83f",
   "metadata": {},
   "outputs": [
    {
     "name": "stdout",
     "output_type": "stream",
     "text": [
      "126.35000000000053 0.578 94\n",
      "126.32500000000053 0.496 93\n"
     ]
    }
   ],
   "source": [
    "for m in range(70, len(mu)):\n",
    "    if power[m] > 0.5:\n",
    "        print(mu[m], power[m], m)\n",
    "        break\n",
    "\n",
    "print(mu[m-1], power[m-1], m-1)"
   ]
  },
  {
   "cell_type": "code",
   "execution_count": 256,
   "id": "e80de955",
   "metadata": {},
   "outputs": [
    {
     "data": {
      "text/plain": [
       "0.536"
      ]
     },
     "execution_count": 256,
     "metadata": {},
     "output_type": "execute_result"
    }
   ],
   "source": [
    "arr = np.zeros(500)\n",
    "for i in range(500):\n",
    "    Y = [generate_Y(125.6272, U) for U in stats.uniform.rvs(size=n)]\n",
    "    mu_hat = np.median(Y)\n",
    "    kde = sm.nonparametric.KDEUnivariate(Y)\n",
    "    kde.fit()\n",
    "    AsyVar = 1 / (4 * n * kde.evaluate(125.6272)[0] ** 2)\n",
    "    arr[i] = (mu_0 > mu_hat + 1.96 * np.sqrt(AsyVar)) or (mu_0 < mu_hat - 1.96 * np.sqrt(AsyVar))\n",
    "\n",
    "np.mean(arr)"
   ]
  },
  {
   "cell_type": "code",
   "execution_count": 308,
   "id": "150b6729",
   "metadata": {},
   "outputs": [
    {
     "data": {
      "image/png": "[encoded data removed]",
      "text/plain": [
       "<Figure size 720x504 with 1 Axes>"
      ]
     },
     "metadata": {
      "needs_background": "light"
     },
     "output_type": "display_data"
    }
   ],
   "source": [
    "Y = [generate_Y(124.5, U) for U in stats.uniform.rvs(size=n)]\n",
    "mu_hat = np.median(Y)\n",
    "kde = sm.nonparametric.KDEUnivariate(Y)\n",
    "kde.fit()\n",
    "AsyVar = 1 / (4 * n * kde.evaluate(124.5)[0] ** 2)\n",
    "\n",
    "plt.figure(figsize=[10,7])\n",
    "plt.plot(kde.support, kde.density, lw=3, label=\"KDE from samples\", zorder=10)\n",
    "plt.axvline(mu_hat, color=\"green\", linestyle=\"dotted\")\n",
    "plt.axvline(mu_hat - 1.96 * np.sqrt(AsyVar), color=\"red\", linestyle=\"dotted\")\n",
    "plt.axvline(mu_hat + 1.96 * np.sqrt(AsyVar), color=\"red\", linestyle=\"dotted\")\n",
    "plt.axvline(126, color=\"purple\", linestyle=\"dotted\")\n",
    "plt.show()"
   ]
  },
  {
   "cell_type": "markdown",
   "id": "ec6ab41d",
   "metadata": {},
   "source": [
    "## Problem 2"
   ]
  },
  {
   "cell_type": "code",
   "execution_count": 104,
   "id": "5e94be8f",
   "metadata": {},
   "outputs": [
    {
     "data": {
      "text/plain": [
       "(-2.575829303548901, 2.5758293035489004)"
      ]
     },
     "execution_count": 104,
     "metadata": {},
     "output_type": "execute_result"
    }
   ],
   "source": [
    "(stats.norm.ppf(0.005), stats.norm.ppf(1-0.005))"
   ]
  },
  {
   "cell_type": "markdown",
   "id": "f4b21f8e",
   "metadata": {},
   "source": [
    "## Problem 4"
   ]
  },
  {
   "cell_type": "code",
   "execution_count": 218,
   "id": "f84438e2",
   "metadata": {},
   "outputs": [],
   "source": [
    "d = 0.4\n",
    "c = 2\n",
    "mu = lambda x: d*x + c*(x**2 - 2)"
   ]
  },
  {
   "cell_type": "code",
   "execution_count": 221,
   "id": "9924e844",
   "metadata": {},
   "outputs": [
    {
     "data": {
      "image/png": "[encoded data removed]",
      "text/plain": [
       "<Figure size 720x504 with 1 Axes>"
      ]
     },
     "metadata": {
      "needs_background": "light"
     },
     "output_type": "display_data"
    }
   ],
   "source": [
    "x = np.arange(-3,3,0.01)\n",
    "\n",
    "plt.figure(figsize=[10,7])\n",
    "plt.plot(x, mu(x), label=\"mu(x)\")\n",
    "plt.plot(x, (lambda x: d * x)(x), label=\"theta * x\")\n",
    "plt.legend()\n",
    "plt.xlabel(\"x\")\n",
    "plt.savefig(\"4c.png\")\n",
    "plt.show()"
   ]
  }
 ],
 "metadata": {
  "kernelspec": {
   "display_name": "Python 3 (ipykernel)",
   "language": "python",
   "name": "python3"
  },
  "language_info": {
   "codemirror_mode": {
    "name": "ipython",
    "version": 3
   },
   "file_extension": ".py",
   "mimetype": "text/x-python",
   "name": "python",
   "nbconvert_exporter": "python",
   "pygments_lexer": "ipython3",
   "version": "3.9.1"
  }
 },
 "nbformat": 4,
 "nbformat_minor": 5
}
