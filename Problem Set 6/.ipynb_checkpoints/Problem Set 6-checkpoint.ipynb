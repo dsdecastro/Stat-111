{
 "cells": [
  {
   "cell_type": "code",
   "execution_count": 1,
   "id": "01482905",
   "metadata": {},
   "outputs": [],
   "source": [
    "import numpy as np\n",
    "import pandas as pd\n",
    "import matplotlib.pyplot as plt"
   ]
  },
  {
   "cell_type": "markdown",
   "id": "34b63948",
   "metadata": {},
   "source": [
    "## Problem 3"
   ]
  },
  {
   "cell_type": "code",
   "execution_count": 34,
   "id": "ea39e091",
   "metadata": {
    "scrolled": true
   },
   "outputs": [
    {
     "data": {
      "text/html": [
       "<div>\n",
       "<style scoped>\n",
       "    .dataframe tbody tr th:only-of-type {\n",
       "        vertical-align: middle;\n",
       "    }\n",
       "\n",
       "    .dataframe tbody tr th {\n",
       "        vertical-align: top;\n",
       "    }\n",
       "\n",
       "    .dataframe thead th {\n",
       "        text-align: right;\n",
       "    }\n",
       "</style>\n",
       "<table border=\"1\" class=\"dataframe\">\n",
       "  <thead>\n",
       "    <tr style=\"text-align: right;\">\n",
       "      <th></th>\n",
       "      <th>X</th>\n",
       "      <th>Y</th>\n",
       "    </tr>\n",
       "  </thead>\n",
       "  <tbody>\n",
       "    <tr>\n",
       "      <th>0</th>\n",
       "      <td>0.329747</td>\n",
       "      <td>-0.876776</td>\n",
       "    </tr>\n",
       "    <tr>\n",
       "      <th>1</th>\n",
       "      <td>-0.236614</td>\n",
       "      <td>1.600866</td>\n",
       "    </tr>\n",
       "    <tr>\n",
       "      <th>2</th>\n",
       "      <td>-1.421243</td>\n",
       "      <td>-1.914934</td>\n",
       "    </tr>\n",
       "    <tr>\n",
       "      <th>3</th>\n",
       "      <td>-2.116773</td>\n",
       "      <td>-2.770313</td>\n",
       "    </tr>\n",
       "    <tr>\n",
       "      <th>4</th>\n",
       "      <td>-0.638551</td>\n",
       "      <td>0.795928</td>\n",
       "    </tr>\n",
       "  </tbody>\n",
       "</table>\n",
       "</div>"
      ],
      "text/plain": [
       "          X         Y\n",
       "0  0.329747 -0.876776\n",
       "1 -0.236614  1.600866\n",
       "2 -1.421243 -1.914934\n",
       "3 -2.116773 -2.770313\n",
       "4 -0.638551  0.795928"
      ]
     },
     "execution_count": 34,
     "metadata": {},
     "output_type": "execute_result"
    }
   ],
   "source": [
    "df = pd.read_csv(\"predictRecursive.csv\")\n",
    "df.head()"
   ]
  },
  {
   "cell_type": "code",
   "execution_count": 8,
   "id": "810f69bb",
   "metadata": {},
   "outputs": [],
   "source": [
    "theta = np.zeros(len(df.index))\n",
    "theta[0] = df.iloc[0,1]/df.iloc[0,0]"
   ]
  },
  {
   "cell_type": "code",
   "execution_count": 10,
   "id": "8def229a",
   "metadata": {},
   "outputs": [],
   "source": [
    "P_n = df.iloc[0,0]**2\n",
    "for i in range(1, len(theta)):\n",
    "    P_n += df.iloc[i,0]**2\n",
    "    theta[i] = theta[i-1] + df.iloc[i,0] * (df.iloc[i,1] - df.iloc[i,0] * theta[i-1]) / P_n"
   ]
  },
  {
   "cell_type": "code",
   "execution_count": 32,
   "id": "34544eaa",
   "metadata": {},
   "outputs": [
    {
     "data": {
      "image/png": "[encoded data removed]",
      "text/plain": [
       "<Figure size 720x504 with 1 Axes>"
      ]
     },
     "metadata": {
      "needs_background": "light"
     },
     "output_type": "display_data"
    }
   ],
   "source": [
    "n = np.arange(5,len(theta) + 1)\n",
    "\n",
    "plt.figure(figsize=[10,7])\n",
    "plt.xlabel(\"n\")\n",
    "plt.ylabel(\"theta-hat\")\n",
    "plt.plot(n, theta[4:], 'ro')\n",
    "plt.savefig(\"3b.png\")\n",
    "plt.show()"
   ]
  },
  {
   "cell_type": "markdown",
   "id": "05b8ad41",
   "metadata": {},
   "source": [
    "## Problem 4"
   ]
  },
  {
   "cell_type": "code",
   "execution_count": 36,
   "id": "60ec7bd9",
   "metadata": {},
   "outputs": [
    {
     "data": {
      "text/html": [
       "<div>\n",
       "<style scoped>\n",
       "    .dataframe tbody tr th:only-of-type {\n",
       "        vertical-align: middle;\n",
       "    }\n",
       "\n",
       "    .dataframe tbody tr th {\n",
       "        vertical-align: top;\n",
       "    }\n",
       "\n",
       "    .dataframe thead th {\n",
       "        text-align: right;\n",
       "    }\n",
       "</style>\n",
       "<table border=\"1\" class=\"dataframe\">\n",
       "  <thead>\n",
       "    <tr style=\"text-align: right;\">\n",
       "      <th></th>\n",
       "      <th>age</th>\n",
       "      <th>geFEV</th>\n",
       "      <th>height</th>\n",
       "      <th>male</th>\n",
       "      <th>smoke</th>\n",
       "    </tr>\n",
       "  </thead>\n",
       "  <tbody>\n",
       "    <tr>\n",
       "      <th>0</th>\n",
       "      <td>9</td>\n",
       "      <td>1.708</td>\n",
       "      <td>57.0</td>\n",
       "      <td>0</td>\n",
       "      <td>0</td>\n",
       "    </tr>\n",
       "    <tr>\n",
       "      <th>1</th>\n",
       "      <td>8</td>\n",
       "      <td>1.724</td>\n",
       "      <td>67.5</td>\n",
       "      <td>0</td>\n",
       "      <td>0</td>\n",
       "    </tr>\n",
       "    <tr>\n",
       "      <th>2</th>\n",
       "      <td>7</td>\n",
       "      <td>1.720</td>\n",
       "      <td>54.5</td>\n",
       "      <td>0</td>\n",
       "      <td>0</td>\n",
       "    </tr>\n",
       "    <tr>\n",
       "      <th>3</th>\n",
       "      <td>9</td>\n",
       "      <td>1.558</td>\n",
       "      <td>53.0</td>\n",
       "      <td>1</td>\n",
       "      <td>0</td>\n",
       "    </tr>\n",
       "    <tr>\n",
       "      <th>4</th>\n",
       "      <td>9</td>\n",
       "      <td>1.895</td>\n",
       "      <td>57.0</td>\n",
       "      <td>1</td>\n",
       "      <td>0</td>\n",
       "    </tr>\n",
       "  </tbody>\n",
       "</table>\n",
       "</div>"
      ],
      "text/plain": [
       "   age  geFEV  height  male  smoke\n",
       "0    9  1.708    57.0     0      0\n",
       "1    8  1.724    67.5     0      0\n",
       "2    7  1.720    54.5     0      0\n",
       "3    9  1.558    53.0     1      0\n",
       "4    9  1.895    57.0     1      0"
      ]
     },
     "execution_count": 36,
     "metadata": {},
     "output_type": "execute_result"
    }
   ],
   "source": [
    "fev = pd.read_csv(\"lung.csv\")\n",
    "fev.head()"
   ]
  },
  {
   "cell_type": "code",
   "execution_count": 45,
   "id": "0cca5081",
   "metadata": {
    "scrolled": false
   },
   "outputs": [
    {
     "data": {
      "image/png": "[encoded data removed]",
      "text/plain": [
       "<Figure size 720x504 with 1 Axes>"
      ]
     },
     "metadata": {
      "needs_background": "light"
     },
     "output_type": "display_data"
    }
   ],
   "source": [
    "plt.figure(figsize=[10,7])\n",
    "plt.plot(fev[fev.smoke == 0].age,fev[fev.smoke == 0].geFEV, \"o\", label=\"non-smokers\")\n",
    "plt.plot(fev[fev.smoke == 1].age,fev[fev.smoke == 1].geFEV, \"ro\", label=\"smokers\")\n",
    "plt.legend()\n",
    "plt.xlabel(\"Age\")\n",
    "plt.ylabel(\"geFEV\")\n",
    "plt.savefig(\"4a.png\")\n",
    "plt.show()"
   ]
  },
  {
   "cell_type": "code",
   "execution_count": 46,
   "id": "fb382e16",
   "metadata": {},
   "outputs": [
    {
     "data": {
      "text/plain": [
       "array([1.4246, 2.465 , 4.2292])"
      ]
     },
     "execution_count": 46,
     "metadata": {},
     "output_type": "execute_result"
    }
   ],
   "source": [
    "np.quantile(fev[fev.smoke == 0].geFEV, [0.05,0.5,0.95])"
   ]
  },
  {
   "cell_type": "code",
   "execution_count": 47,
   "id": "b1227424",
   "metadata": {},
   "outputs": [
    {
     "data": {
      "text/plain": [
       "array([2.22  , 3.169 , 4.7322])"
      ]
     },
     "execution_count": 47,
     "metadata": {},
     "output_type": "execute_result"
    }
   ],
   "source": [
    "np.quantile(fev[fev.smoke == 1].geFEV, [0.05,0.5,0.95])"
   ]
  },
  {
   "cell_type": "code",
   "execution_count": 61,
   "id": "74f49b56",
   "metadata": {
    "scrolled": true
   },
   "outputs": [
    {
     "data": {
      "text/plain": [
       "308"
      ]
     },
     "execution_count": 61,
     "metadata": {},
     "output_type": "execute_result"
    }
   ],
   "source": [
    "len(fev[(fev.smoke == 0) & (fev.age < 10)])"
   ]
  },
  {
   "cell_type": "code",
   "execution_count": 89,
   "id": "c344fb79",
   "metadata": {},
   "outputs": [
    {
     "data": {
      "text/plain": [
       "0.08110348302143737"
      ]
     },
     "execution_count": 89,
     "metadata": {},
     "output_type": "execute_result"
    }
   ],
   "source": [
    "fev_nm_s = fev[fev.smoke == 1].geFEV - np.mean(fev[fev.smoke == 1].geFEV)\n",
    "smokers = np.stack((fev[fev.smoke == 1].age, fev_nm_s), axis=0)\n",
    "covar_s = np.cov(smokers)[0,1]\n",
    "var_s = np.var(fev[fev.smoke == 1].age)\n",
    "beta_s = covar_s / var_s\n",
    "beta_s"
   ]
  },
  {
   "cell_type": "code",
   "execution_count": 90,
   "id": "15582f6d",
   "metadata": {},
   "outputs": [
    {
     "data": {
      "text/plain": [
       "0.24297092535419598"
      ]
     },
     "execution_count": 90,
     "metadata": {},
     "output_type": "execute_result"
    }
   ],
   "source": [
    "fev_nm_n = fev[fev.smoke == 0].geFEV - np.mean(fev[fev.smoke == 0].geFEV)\n",
    "non_smokers = np.stack((fev[fev.smoke == 0].age, fev_nm_n), axis=0)\n",
    "covar_n = np.cov(non_smokers)[0,1]\n",
    "var_n = np.var(fev[fev.smoke == 0].age)\n",
    "beta_n = covar_n / var_n\n",
    "beta_n"
   ]
  },
  {
   "cell_type": "code",
   "execution_count": 94,
   "id": "b205a094",
   "metadata": {},
   "outputs": [
    {
     "data": {
      "text/plain": [
       "0.0798557371287999"
      ]
     },
     "execution_count": 94,
     "metadata": {},
     "output_type": "execute_result"
    }
   ],
   "source": [
    "fev_nm_s = fev[fev.smoke == 1].geFEV - np.mean(fev[fev.smoke == 1].geFEV)\n",
    "age_nm_s = fev[fev.smoke == 1].age - np.mean(fev[fev.smoke == 1].age)\n",
    "top = 0\n",
    "bottom = 0\n",
    "for i in range(len(fev_nm_s)):\n",
    "    top += fev_nm_s.iloc[i] * age_nm_s.iloc[i]\n",
    "    bottom += age_nm_s.iloc[i] ** 2\n",
    "theta_s = top / bottom\n",
    "theta_s"
   ]
  },
  {
   "cell_type": "code",
   "execution_count": 95,
   "id": "41c7ffb4",
   "metadata": {},
   "outputs": [
    {
     "data": {
      "text/plain": [
       "0.2318691054220845"
      ]
     },
     "execution_count": 95,
     "metadata": {},
     "output_type": "execute_result"
    }
   ],
   "source": [
    "fev_nm_n = fev[fev.smoke == 0].geFEV - np.mean(fev[fev.smoke == 0].geFEV)\n",
    "age_nm_n = fev[fev.smoke == 0].age - np.mean(fev[fev.smoke == 0].age)\n",
    "top = 0\n",
    "bottom = 0\n",
    "for i in range(len(fev_nm_s)):\n",
    "    top += fev_nm_n.iloc[i] * age_nm_n.iloc[i]\n",
    "    bottom += age_nm_n.iloc[i] ** 2\n",
    "theta_n = top / bottom\n",
    "theta_n"
   ]
  }
 ],
 "metadata": {
  "kernelspec": {
   "display_name": "Python 3 (ipykernel)",
   "language": "python",
   "name": "python3"
  },
  "language_info": {
   "codemirror_mode": {
    "name": "ipython",
    "version": 3
   },
   "file_extension": ".py",
   "mimetype": "text/x-python",
   "name": "python",
   "nbconvert_exporter": "python",
   "pygments_lexer": "ipython3",
   "version": "3.9.1"
  }
 },
 "nbformat": 4,
 "nbformat_minor": 5
}
