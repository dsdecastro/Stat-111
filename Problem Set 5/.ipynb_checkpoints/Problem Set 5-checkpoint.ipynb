{
 "cells": [
  {
   "cell_type": "code",
   "execution_count": 2,
   "id": "c75c50ce",
   "metadata": {},
   "outputs": [],
   "source": [
    "import numpy as np\n",
    "import pandas as pd\n",
    "import matplotlib.pyplot as plt\n",
    "from scipy import stats"
   ]
  },
  {
   "cell_type": "markdown",
   "id": "acf35549",
   "metadata": {},
   "source": [
    "## Problem 1"
   ]
  },
  {
   "cell_type": "markdown",
   "id": "98dd0c26",
   "metadata": {},
   "source": [
    "### (a)"
   ]
  },
  {
   "cell_type": "code",
   "execution_count": 4,
   "id": "81a9ee09",
   "metadata": {},
   "outputs": [
    {
     "data": {
      "text/plain": [
       "0.8575264022774743"
      ]
     },
     "execution_count": 4,
     "metadata": {},
     "output_type": "execute_result"
    }
   ],
   "source": [
    "beta = stats.beta\n",
    "beta.ppf(0.025,24,1)"
   ]
  },
  {
   "cell_type": "code",
   "execution_count": 5,
   "id": "6b4a63ac",
   "metadata": {},
   "outputs": [
    {
     "data": {
      "text/plain": [
       "0.9989456475545303"
      ]
     },
     "execution_count": 5,
     "metadata": {},
     "output_type": "execute_result"
    }
   ],
   "source": [
    "beta.ppf(0.975,24,1)"
   ]
  },
  {
   "cell_type": "code",
   "execution_count": 7,
   "id": "2c5f5bea",
   "metadata": {},
   "outputs": [
    {
     "data": {
      "text/plain": [
       "(83.58813135070186, 97.37309519361185)"
      ]
     },
     "execution_count": 7,
     "metadata": {},
     "output_type": "execute_result"
    }
   ],
   "source": [
    "(83.5/beta.ppf(0.975,24,1), 83.5/beta.ppf(0.025,24,1))"
   ]
  },
  {
   "cell_type": "markdown",
   "id": "43b068d4",
   "metadata": {},
   "source": [
    "### (b)"
   ]
  },
  {
   "cell_type": "code",
   "execution_count": 2,
   "id": "7c92a406",
   "metadata": {},
   "outputs": [
    {
     "data": {
      "text/plain": [
       "69.13144979786063"
      ]
     },
     "execution_count": 2,
     "metadata": {},
     "output_type": "execute_result"
    }
   ],
   "source": [
    "85.1 / (1 + 1.96/(np.sqrt(3 * 24)))"
   ]
  },
  {
   "cell_type": "code",
   "execution_count": 3,
   "id": "e840c1ea",
   "metadata": {},
   "outputs": [
    {
     "data": {
      "text/plain": [
       "110.66150308835735"
      ]
     },
     "execution_count": 3,
     "metadata": {},
     "output_type": "execute_result"
    }
   ],
   "source": [
    "85.1 / (1 - 1.96/(np.sqrt(3 * 24)))"
   ]
  },
  {
   "cell_type": "markdown",
   "id": "a3aa9247",
   "metadata": {},
   "source": [
    "### (d)"
   ]
  },
  {
   "cell_type": "code",
   "execution_count": 39,
   "id": "5e1333b1",
   "metadata": {},
   "outputs": [],
   "source": [
    "theta = np.arange(70,95,1)\n",
    "B = 10000\n",
    "n = 24"
   ]
  },
  {
   "cell_type": "code",
   "execution_count": 40,
   "id": "01752964",
   "metadata": {},
   "outputs": [],
   "source": [
    "def determineCoverage(theta): \n",
    "    Y = [np.random.uniform(0, theta) for i in range(n)]\n",
    "    th = 2 * np.mean(Y)\n",
    "    lower = th / (1 + 1.96 / np.sqrt(3 * B))\n",
    "    upper = th / (1 - 1.96 / np.sqrt(3 * B))\n",
    "    return (theta >= lower and theta <= upper)"
   ]
  },
  {
   "cell_type": "code",
   "execution_count": 41,
   "id": "30b9f2aa",
   "metadata": {},
   "outputs": [],
   "source": [
    "res = [[determineCoverage(t) for i in range(B)] for t in theta]"
   ]
  },
  {
   "cell_type": "code",
   "execution_count": 43,
   "id": "eee6a40f",
   "metadata": {},
   "outputs": [],
   "source": [
    "coverage = [1/B * sum(row) for row in res]"
   ]
  },
  {
   "cell_type": "code",
   "execution_count": 44,
   "id": "fe628cf8",
   "metadata": {},
   "outputs": [
    {
     "data": {
      "image/png": "[encoded data removed]",
      "text/plain": [
       "<Figure size 432x288 with 1 Axes>"
      ]
     },
     "metadata": {
      "needs_background": "light"
     },
     "output_type": "display_data"
    }
   ],
   "source": [
    "plt.plot(theta, coverage, 'or')\n",
    "plt.xlabel(\"theta\")\n",
    "plt.ylabel(\"coverage\")\n",
    "plt.savefig(\"1d.png\")\n",
    "plt.show()"
   ]
  },
  {
   "cell_type": "markdown",
   "id": "788cae57",
   "metadata": {},
   "source": [
    "## Problem 2"
   ]
  },
  {
   "cell_type": "markdown",
   "id": "9a7cc861",
   "metadata": {},
   "source": [
    "### (a)"
   ]
  },
  {
   "cell_type": "code",
   "execution_count": 47,
   "id": "44a0bd5a",
   "metadata": {},
   "outputs": [
    {
     "data": {
      "text/plain": [
       "2.200985160082949"
      ]
     },
     "execution_count": 47,
     "metadata": {},
     "output_type": "execute_result"
    }
   ],
   "source": [
    "stats.t(df=11).ppf(0.975)"
   ]
  },
  {
   "cell_type": "code",
   "execution_count": 50,
   "id": "e8c08da3",
   "metadata": {},
   "outputs": [
    {
     "data": {
      "text/plain": [
       "(2.0407099932307995, 6.359290006769201)"
      ]
     },
     "execution_count": 50,
     "metadata": {},
     "output_type": "execute_result"
    }
   ],
   "source": [
    "(4.2 - 2.20 * 3.4 / np.sqrt(12), 4.2 + 2.20 * 3.4 / np.sqrt(12))"
   ]
  },
  {
   "cell_type": "code",
   "execution_count": 54,
   "id": "3de6c84e",
   "metadata": {},
   "outputs": [
    {
     "data": {
      "text/plain": [
       "4.318580013538401"
      ]
     },
     "execution_count": 54,
     "metadata": {},
     "output_type": "execute_result"
    }
   ],
   "source": [
    "4.2 + 2.20 * 3.4 / np.sqrt(12) - (4.2 - 2.20 * 3.4 / np.sqrt(12))"
   ]
  },
  {
   "cell_type": "markdown",
   "id": "78ba5e4c",
   "metadata": {},
   "source": [
    "### (b)"
   ]
  },
  {
   "cell_type": "code",
   "execution_count": 52,
   "id": "378cbfa2",
   "metadata": {},
   "outputs": [
    {
     "data": {
      "text/plain": [
       "(2.276268903060167, 6.123731096939833)"
      ]
     },
     "execution_count": 52,
     "metadata": {},
     "output_type": "execute_result"
    }
   ],
   "source": [
    "(4.2 - 1.96 * np.sqrt(3.4**2 / 12), 4.2 + 1.96 * np.sqrt(3.4**2 / 12))"
   ]
  },
  {
   "cell_type": "code",
   "execution_count": 55,
   "id": "214619b2",
   "metadata": {},
   "outputs": [
    {
     "data": {
      "text/plain": [
       "3.8474621938796663"
      ]
     },
     "execution_count": 55,
     "metadata": {},
     "output_type": "execute_result"
    }
   ],
   "source": [
    "4.2 + 1.96 * np.sqrt(3.4**2 / 12) - (4.2 - 1.96 * np.sqrt(3.4**2 / 12))"
   ]
  },
  {
   "cell_type": "markdown",
   "id": "972fa2f2",
   "metadata": {},
   "source": [
    "## Problem 3"
   ]
  },
  {
   "cell_type": "code",
   "execution_count": 58,
   "id": "6aefdd90",
   "metadata": {},
   "outputs": [
    {
     "data": {
      "text/plain": [
       "(1.57728755184266, 1.62871244815734)"
      ]
     },
     "execution_count": 58,
     "metadata": {},
     "output_type": "execute_result"
    }
   ],
   "source": [
    "(1.603 - 1.96 * 0.168 / np.sqrt(164), 1.603 + 1.96 * 0.168 / np.sqrt(164))"
   ]
  }
 ],
 "metadata": {
  "kernelspec": {
   "display_name": "Python 3 (ipykernel)",
   "language": "python",
   "name": "python3"
  },
  "language_info": {
   "codemirror_mode": {
    "name": "ipython",
    "version": 3
   },
   "file_extension": ".py",
   "mimetype": "text/x-python",
   "name": "python",
   "nbconvert_exporter": "python",
   "pygments_lexer": "ipython3",
   "version": "3.9.1"
  }
 },
 "nbformat": 4,
 "nbformat_minor": 5
}
